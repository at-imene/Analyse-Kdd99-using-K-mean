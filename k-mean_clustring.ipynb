{
 "cells": [
  {
   "cell_type": "markdown",
   "metadata": {},
   "source": [
    "# k-mean for intrusion detection system\n",
    "---\n",
    "    In anomaly detection, the k-means clustering algorithm is used to detect novel intrusions by clustering the network connections’ data to collect the most of intrusions together in one or more clusters."
   ]
  },
  {
   "cell_type": "markdown",
   "metadata": {},
   "source": [
    "\n",
    "## NSL-KDD dataset\n",
    "    NSL-KDD is a data set suggested to solve some of the inherent problems of the KDD'99 data set."
   ]
  },
  {
   "cell_type": "code",
   "execution_count": 2,
   "metadata": {},
   "outputs": [
    {
     "data": {
      "text/html": [
       "<div>\n",
       "<style scoped>\n",
       "    .dataframe tbody tr th:only-of-type {\n",
       "        vertical-align: middle;\n",
       "    }\n",
       "\n",
       "    .dataframe tbody tr th {\n",
       "        vertical-align: top;\n",
       "    }\n",
       "\n",
       "    .dataframe thead th {\n",
       "        text-align: right;\n",
       "    }\n",
       "</style>\n",
       "<table border=\"1\" class=\"dataframe\">\n",
       "  <thead>\n",
       "    <tr style=\"text-align: right;\">\n",
       "      <th></th>\n",
       "      <th>duration</th>\n",
       "      <th>protocol_type</th>\n",
       "      <th>service</th>\n",
       "      <th>flag</th>\n",
       "      <th>src_bytes</th>\n",
       "      <th>dst_bytes</th>\n",
       "      <th>land</th>\n",
       "      <th>wrong_fragment</th>\n",
       "      <th>urgent</th>\n",
       "      <th>hot</th>\n",
       "      <th>...</th>\n",
       "      <th>dst_host_srv_count</th>\n",
       "      <th>dst_host_same_srv_rate</th>\n",
       "      <th>dst_host_diff_srv_rate</th>\n",
       "      <th>dst_host_same_src_port_rate</th>\n",
       "      <th>dst_host_srv_diff_host_rate</th>\n",
       "      <th>dst_host_serror_rate</th>\n",
       "      <th>dst_host_srv_serror_rate</th>\n",
       "      <th>dst_host_rerror_rate</th>\n",
       "      <th>dst_host_srv_rerror_rate</th>\n",
       "      <th>labels</th>\n",
       "    </tr>\n",
       "  </thead>\n",
       "  <tbody>\n",
       "    <tr>\n",
       "      <th>0</th>\n",
       "      <td>0</td>\n",
       "      <td>tcp</td>\n",
       "      <td>ftp_data</td>\n",
       "      <td>SF</td>\n",
       "      <td>491</td>\n",
       "      <td>0</td>\n",
       "      <td>0</td>\n",
       "      <td>0</td>\n",
       "      <td>0</td>\n",
       "      <td>0</td>\n",
       "      <td>...</td>\n",
       "      <td>25</td>\n",
       "      <td>0.17</td>\n",
       "      <td>0.03</td>\n",
       "      <td>0.17</td>\n",
       "      <td>0.00</td>\n",
       "      <td>0.00</td>\n",
       "      <td>0.00</td>\n",
       "      <td>0.05</td>\n",
       "      <td>0.00</td>\n",
       "      <td>normal</td>\n",
       "    </tr>\n",
       "    <tr>\n",
       "      <th>1</th>\n",
       "      <td>0</td>\n",
       "      <td>udp</td>\n",
       "      <td>other</td>\n",
       "      <td>SF</td>\n",
       "      <td>146</td>\n",
       "      <td>0</td>\n",
       "      <td>0</td>\n",
       "      <td>0</td>\n",
       "      <td>0</td>\n",
       "      <td>0</td>\n",
       "      <td>...</td>\n",
       "      <td>1</td>\n",
       "      <td>0.00</td>\n",
       "      <td>0.60</td>\n",
       "      <td>0.88</td>\n",
       "      <td>0.00</td>\n",
       "      <td>0.00</td>\n",
       "      <td>0.00</td>\n",
       "      <td>0.00</td>\n",
       "      <td>0.00</td>\n",
       "      <td>normal</td>\n",
       "    </tr>\n",
       "    <tr>\n",
       "      <th>2</th>\n",
       "      <td>0</td>\n",
       "      <td>tcp</td>\n",
       "      <td>private</td>\n",
       "      <td>S0</td>\n",
       "      <td>0</td>\n",
       "      <td>0</td>\n",
       "      <td>0</td>\n",
       "      <td>0</td>\n",
       "      <td>0</td>\n",
       "      <td>0</td>\n",
       "      <td>...</td>\n",
       "      <td>26</td>\n",
       "      <td>0.10</td>\n",
       "      <td>0.05</td>\n",
       "      <td>0.00</td>\n",
       "      <td>0.00</td>\n",
       "      <td>1.00</td>\n",
       "      <td>1.00</td>\n",
       "      <td>0.00</td>\n",
       "      <td>0.00</td>\n",
       "      <td>neptune</td>\n",
       "    </tr>\n",
       "    <tr>\n",
       "      <th>3</th>\n",
       "      <td>0</td>\n",
       "      <td>tcp</td>\n",
       "      <td>http</td>\n",
       "      <td>SF</td>\n",
       "      <td>232</td>\n",
       "      <td>8153</td>\n",
       "      <td>0</td>\n",
       "      <td>0</td>\n",
       "      <td>0</td>\n",
       "      <td>0</td>\n",
       "      <td>...</td>\n",
       "      <td>255</td>\n",
       "      <td>1.00</td>\n",
       "      <td>0.00</td>\n",
       "      <td>0.03</td>\n",
       "      <td>0.04</td>\n",
       "      <td>0.03</td>\n",
       "      <td>0.01</td>\n",
       "      <td>0.00</td>\n",
       "      <td>0.01</td>\n",
       "      <td>normal</td>\n",
       "    </tr>\n",
       "    <tr>\n",
       "      <th>4</th>\n",
       "      <td>0</td>\n",
       "      <td>tcp</td>\n",
       "      <td>http</td>\n",
       "      <td>SF</td>\n",
       "      <td>199</td>\n",
       "      <td>420</td>\n",
       "      <td>0</td>\n",
       "      <td>0</td>\n",
       "      <td>0</td>\n",
       "      <td>0</td>\n",
       "      <td>...</td>\n",
       "      <td>255</td>\n",
       "      <td>1.00</td>\n",
       "      <td>0.00</td>\n",
       "      <td>0.00</td>\n",
       "      <td>0.00</td>\n",
       "      <td>0.00</td>\n",
       "      <td>0.00</td>\n",
       "      <td>0.00</td>\n",
       "      <td>0.00</td>\n",
       "      <td>normal</td>\n",
       "    </tr>\n",
       "  </tbody>\n",
       "</table>\n",
       "<p>5 rows × 42 columns</p>\n",
       "</div>"
      ],
      "text/plain": [
       "   duration protocol_type   service flag  src_bytes  dst_bytes  land  \\\n",
       "0         0           tcp  ftp_data   SF        491          0     0   \n",
       "1         0           udp     other   SF        146          0     0   \n",
       "2         0           tcp   private   S0          0          0     0   \n",
       "3         0           tcp      http   SF        232       8153     0   \n",
       "4         0           tcp      http   SF        199        420     0   \n",
       "\n",
       "   wrong_fragment  urgent  hot  ...  dst_host_srv_count  \\\n",
       "0               0       0    0  ...                  25   \n",
       "1               0       0    0  ...                   1   \n",
       "2               0       0    0  ...                  26   \n",
       "3               0       0    0  ...                 255   \n",
       "4               0       0    0  ...                 255   \n",
       "\n",
       "   dst_host_same_srv_rate  dst_host_diff_srv_rate  \\\n",
       "0                    0.17                    0.03   \n",
       "1                    0.00                    0.60   \n",
       "2                    0.10                    0.05   \n",
       "3                    1.00                    0.00   \n",
       "4                    1.00                    0.00   \n",
       "\n",
       "   dst_host_same_src_port_rate  dst_host_srv_diff_host_rate  \\\n",
       "0                         0.17                         0.00   \n",
       "1                         0.88                         0.00   \n",
       "2                         0.00                         0.00   \n",
       "3                         0.03                         0.04   \n",
       "4                         0.00                         0.00   \n",
       "\n",
       "   dst_host_serror_rate  dst_host_srv_serror_rate  dst_host_rerror_rate  \\\n",
       "0                  0.00                      0.00                  0.05   \n",
       "1                  0.00                      0.00                  0.00   \n",
       "2                  1.00                      1.00                  0.00   \n",
       "3                  0.03                      0.01                  0.00   \n",
       "4                  0.00                      0.00                  0.00   \n",
       "\n",
       "   dst_host_srv_rerror_rate   labels  \n",
       "0                      0.00   normal  \n",
       "1                      0.00   normal  \n",
       "2                      0.00  neptune  \n",
       "3                      0.01   normal  \n",
       "4                      0.00   normal  \n",
       "\n",
       "[5 rows x 42 columns]"
      ]
     },
     "execution_count": 2,
     "metadata": {},
     "output_type": "execute_result"
    }
   ],
   "source": [
    "import pandas as pd\n",
    "import numpy as np\n",
    "\n",
    "data=pd.read_csv(\"kdd_train.csv\")\n",
    "\n",
    "#We will be taking only two variables from the data – “dst_host_diff_srv_rate” and “dst_host_same_src_port_rate”.\n",
    "X = data[[\"dst_host_diff_srv_rate\", \"dst_host_same_src_port_rate\"]]\n",
    "\n",
    "data.head()"
   ]
  },
  {
   "cell_type": "markdown",
   "metadata": {},
   "source": [
    "## determine k using the elbow method\n",
    "    The KElbowVisualizer implements the “elbow” method to help data scientists select the optimal number of clusters by fitting the model with a range of values for K.\n",
    "    In the following code the KElbowVisualizer fits the KMeans model for a range of K values from 2 to 15 on our dataset."
   ]
  },
  {
   "cell_type": "code",
   "execution_count": 3,
   "metadata": {},
   "outputs": [
    {
     "data": {
      "image/png": "[encoded data removed]",
      "text/plain": [
       "<Figure size 576x396 with 2 Axes>"
      ]
     },
     "metadata": {},
     "output_type": "display_data"
    },
    {
     "data": {
      "text/plain": [
       "<AxesSubplot:title={'center':'Distortion Score Elbow for KMeans Clustering'}, xlabel='k', ylabel='distortion score'>"
      ]
     },
     "execution_count": 3,
     "metadata": {},
     "output_type": "execute_result"
    }
   ],
   "source": [
    "from sklearn.cluster import KMeans\n",
    "from sklearn.datasets import make_blobs\n",
    "\n",
    "from yellowbrick.cluster import KElbowVisualizer\n",
    "\n",
    "\n",
    "# Instantiate the clustering model and visualizer\n",
    "model = KMeans()\n",
    "visualizer = KElbowVisualizer(model, k=(2,15))\n",
    "\n",
    "visualizer.fit(X)        # Fit the data to the visualizer\n",
    "visualizer.show()        # Finalize and render the figure"
   ]
  },
  {
   "cell_type": "markdown",
   "metadata": {},
   "source": [
    "## Implement k-mean algorithm"
   ]
  },
  {
   "cell_type": "code",
   "execution_count": null,
   "metadata": {},
   "outputs": [],
   "source": []
  },
  {
   "cell_type": "code",
   "execution_count": 7,
   "metadata": {},
   "outputs": [
    {
     "data": {
      "text/plain": [
       "0         0.17\n",
       "1         0.00\n",
       "2         0.10\n",
       "3         1.00\n",
       "4         1.00\n",
       "          ... \n",
       "125968    0.10\n",
       "125969    0.96\n",
       "125970    0.12\n",
       "125971    0.03\n",
       "125972    0.30\n",
       "Name: dst_host_same_srv_rate, Length: 125973, dtype: float64"
      ]
     },
     "execution_count": 7,
     "metadata": {},
     "output_type": "execute_result"
    }
   ],
   "source": [
    "import pandas as pd\n",
    "import numpy as np\n",
    "import matplotlib.pyplot as plt\n",
    "from sklearn.cluster import KMeans\n",
    "from sklearn import preprocessing\n",
    "import time\n",
    "\n",
    "data=pd.read_csv(\"kdd_train.csv\")\n",
    "X = data[[\"same_srv_rate\",\"dst_host_same_srv_rate\"]]\n",
    "\n",
    "X.dtypes"
   ]
  },
  {
   "cell_type": "markdown",
   "metadata": {},
   "source": [
    "## Normalizing data"
   ]
  },
  {
   "cell_type": "code",
   "execution_count": null,
   "metadata": {},
   "outputs": [],
   "source": [
    "from pandas.api.types import is_numeric_dtype\n",
    "\n",
    "''' Normalizing to the rage of 0 and 1 '''\n",
    "def normalise(col):\n",
    "    # check if the entred column is numeric\n",
    "    if (is_numeric_dtype(col)):\n",
    "        norm = (col - col.min()) / (col.max() - col.min())\n",
    "        return norm\n",
    "    return col\n",
    "    \n",
    "\n",
    "X.same_srv_rate = normalise(X.same_srv_rate)\n",
    "X.dst_host_same_srv_rate = normalise(X.dst_host_same_srv_rate)\n"
   ]
  },
  {
   "cell_type": "code",
   "execution_count": 6,
   "metadata": {},
   "outputs": [
    {
     "name": "stderr",
     "output_type": "stream",
     "text": [
      "C:\\ProgramData\\Anaconda3\\lib\\site-packages\\pandas\\core\\generic.py:5168: SettingWithCopyWarning: \n",
      "A value is trying to be set on a copy of a slice from a DataFrame.\n",
      "Try using .loc[row_indexer,col_indexer] = value instead\n",
      "\n",
      "See the caveats in the documentation: https://pandas.pydata.org/pandas-docs/stable/user_guide/indexing.html#returning-a-view-versus-a-copy\n",
      "  self[name] = value\n"
     ]
    },
    {
     "ename": "AttributeError",
     "evalue": "'DataFrame' object has no attribute 'dst_host_srv_rate'",
     "output_type": "error",
     "traceback": [
      "\u001b[1;31m---------------------------------------------------------------------------\u001b[0m",
      "\u001b[1;31mAttributeError\u001b[0m                            Traceback (most recent call last)",
      "\u001b[1;32m<ipython-input-6-3cd665ff0644>\u001b[0m in \u001b[0;36m<module>\u001b[1;34m\u001b[0m\n\u001b[0;32m     12\u001b[0m \u001b[0mX\u001b[0m\u001b[1;33m.\u001b[0m\u001b[0msame_srv_rate\u001b[0m \u001b[1;33m=\u001b[0m \u001b[0mnormalise\u001b[0m\u001b[1;33m(\u001b[0m\u001b[0mX\u001b[0m\u001b[1;33m.\u001b[0m\u001b[0msame_srv_rate\u001b[0m\u001b[1;33m)\u001b[0m\u001b[1;33m\u001b[0m\u001b[1;33m\u001b[0m\u001b[0m\n\u001b[0;32m     13\u001b[0m \u001b[0mX\u001b[0m\u001b[1;33m.\u001b[0m\u001b[0mdst_host_same_srv_rate\u001b[0m \u001b[1;33m=\u001b[0m \u001b[0mnormalise\u001b[0m\u001b[1;33m(\u001b[0m\u001b[0mX\u001b[0m\u001b[1;33m.\u001b[0m\u001b[0mdst_host_same_srv_rate\u001b[0m\u001b[1;33m)\u001b[0m\u001b[1;33m\u001b[0m\u001b[1;33m\u001b[0m\u001b[0m\n\u001b[1;32m---> 14\u001b[1;33m \u001b[0mprint\u001b[0m\u001b[1;33m(\u001b[0m\u001b[0mX\u001b[0m\u001b[1;33m.\u001b[0m\u001b[0mdst_host_srv_rate\u001b[0m\u001b[1;33m)\u001b[0m\u001b[1;33m\u001b[0m\u001b[1;33m\u001b[0m\u001b[0m\n\u001b[0m",
      "\u001b[1;32mC:\\ProgramData\\Anaconda3\\lib\\site-packages\\pandas\\core\\generic.py\u001b[0m in \u001b[0;36m__getattr__\u001b[1;34m(self, name)\u001b[0m\n\u001b[0;32m   5137\u001b[0m             \u001b[1;32mif\u001b[0m \u001b[0mself\u001b[0m\u001b[1;33m.\u001b[0m\u001b[0m_info_axis\u001b[0m\u001b[1;33m.\u001b[0m\u001b[0m_can_hold_identifiers_and_holds_name\u001b[0m\u001b[1;33m(\u001b[0m\u001b[0mname\u001b[0m\u001b[1;33m)\u001b[0m\u001b[1;33m:\u001b[0m\u001b[1;33m\u001b[0m\u001b[1;33m\u001b[0m\u001b[0m\n\u001b[0;32m   5138\u001b[0m                 \u001b[1;32mreturn\u001b[0m \u001b[0mself\u001b[0m\u001b[1;33m[\u001b[0m\u001b[0mname\u001b[0m\u001b[1;33m]\u001b[0m\u001b[1;33m\u001b[0m\u001b[1;33m\u001b[0m\u001b[0m\n\u001b[1;32m-> 5139\u001b[1;33m             \u001b[1;32mreturn\u001b[0m \u001b[0mobject\u001b[0m\u001b[1;33m.\u001b[0m\u001b[0m__getattribute__\u001b[0m\u001b[1;33m(\u001b[0m\u001b[0mself\u001b[0m\u001b[1;33m,\u001b[0m \u001b[0mname\u001b[0m\u001b[1;33m)\u001b[0m\u001b[1;33m\u001b[0m\u001b[1;33m\u001b[0m\u001b[0m\n\u001b[0m\u001b[0;32m   5140\u001b[0m \u001b[1;33m\u001b[0m\u001b[0m\n\u001b[0;32m   5141\u001b[0m     \u001b[1;32mdef\u001b[0m \u001b[0m__setattr__\u001b[0m\u001b[1;33m(\u001b[0m\u001b[0mself\u001b[0m\u001b[1;33m,\u001b[0m \u001b[0mname\u001b[0m\u001b[1;33m:\u001b[0m \u001b[0mstr\u001b[0m\u001b[1;33m,\u001b[0m \u001b[0mvalue\u001b[0m\u001b[1;33m)\u001b[0m \u001b[1;33m->\u001b[0m \u001b[1;32mNone\u001b[0m\u001b[1;33m:\u001b[0m\u001b[1;33m\u001b[0m\u001b[1;33m\u001b[0m\u001b[0m\n",
      "\u001b[1;31mAttributeError\u001b[0m: 'DataFrame' object has no attribute 'dst_host_srv_rate'"
     ]
    }
   ],
   "source": [
    "\n",
    "# number of clustres\n",
    "K=5\n",
    "# Select random observation as centroids\n",
    "Centroids = (X.sample(n=K))\n",
    "print(Centroids)\n",
    "\n",
    "diff = 1\n",
    "j=0\n",
    "\n",
    "print(\"\\nClustering...\\n\")\n",
    "start_time = time.time()\n",
    "\n",
    "while(diff!=0):\n",
    "    XD=X\n",
    "    i=1\n",
    "    for index1,row_c in Centroids.iterrows():\n",
    "        ED=[]\n",
    "        #calculate the distance between the ith centroid and all the poits\n",
    "        for index2,row_d in XD.iterrows():\n",
    "            d1=(row_c[\"dst_host_same_srv_rate\"]-row_d[\"dst_host_same_srv_rate\"])**2\n",
    "            d2=(row_c[\"same_srv_rate\"]-row_d[\"same_srv_rate\"])**2\n",
    "            d=np.sqrt(d1+d2)\n",
    "            ED.append(d)\n",
    "        X[i]=ED\n",
    "        i=i+1\n",
    "\n",
    "    C=[]\n",
    "    for index,row in X.iterrows():\n",
    "        min_dist=row[1]\n",
    "        pos=1\n",
    "        for i in range(K):\n",
    "            if row[i+1] < min_dist:\n",
    "                min_dist = row[i+1]\n",
    "                pos=i+1\n",
    "        C.append(pos)\n",
    "    X[\"Cluster\"]=C\n",
    "    Centroids_new = X.groupby([\"Cluster\"]).mean()[[\"same_srv_rate\",\"dst_host_same_srv_rate\"]]\n",
    "    if j == 0:\n",
    "        diff=1\n",
    "        j=j+1\n",
    "    else:\n",
    "        diff = (Centroids_new['same_srv_rate'] - Centroids['same_srv_rate']).sum() + (Centroids_new['dst_host_same_srv_rate'] - Centroids['dst_host_same_srv_rate']).sum()\n",
    "        print(diff.sum())\n",
    "    Centroids = X.groupby([\"Cluster\"]).mean()[[\"same_srv_rate\",\"dst_host_same_srv_rate\"]]\n",
    "\n",
    "print(\"\\n\\nRun Time ->\",\"--- %s seconds ---\" % (time.time() - start_time))\n",
    "print(\"Data Successfully Clustered\")\n",
    "\n",
    "color=['blue','green','cyan', 'black', 'yellow']\n",
    "for k in range(K):\n",
    "    data=X[X[\"Cluster\"]==k+1]\n",
    "    plt.scatter(data[\"dst_host_same_srv_rate\"],data[\"same_srv_rate\"],c=color[k])\n",
    ")"
   ]
  },
  {
   "cell_type": "code",
   "execution_count": 2,
   "metadata": {},
   "outputs": [
    {
     "name": "stdout",
     "output_type": "stream",
     "text": [
      "       same_srv_rate  dst_host_same_srv_rate\n",
      "88159           1.00                    1.00\n",
      "82883           1.00                    1.00\n",
      "15107           1.00                    0.78\n",
      "41556           1.00                    1.00\n",
      "27377           0.07                    0.07\n",
      "\n",
      "Clustering...\n",
      "\n"
     ]
    },
    {
     "name": "stderr",
     "output_type": "stream",
     "text": [
      "<ipython-input-2-255dc934db5f>:23: SettingWithCopyWarning: \n",
      "A value is trying to be set on a copy of a slice from a DataFrame.\n",
      "Try using .loc[row_indexer,col_indexer] = value instead\n",
      "\n",
      "See the caveats in the documentation: https://pandas.pydata.org/pandas-docs/stable/user_guide/indexing.html#returning-a-view-versus-a-copy\n",
      "  X[i]=ED\n",
      "<ipython-input-2-255dc934db5f>:35: SettingWithCopyWarning: \n",
      "A value is trying to be set on a copy of a slice from a DataFrame.\n",
      "Try using .loc[row_indexer,col_indexer] = value instead\n",
      "\n",
      "See the caveats in the documentation: https://pandas.pydata.org/pandas-docs/stable/user_guide/indexing.html#returning-a-view-versus-a-copy\n",
      "  X[\"Cluster\"]=C\n"
     ]
    },
    {
     "name": "stdout",
     "output_type": "stream",
     "text": [
      "-1.2974921338849559\n",
      "-0.07325899315695063\n",
      "-0.022158698733186537\n",
      "0.0077216715495496205\n",
      "-0.0071451403415096135\n",
      "-0.0075664222032656575\n",
      "-0.015292742661045432\n",
      "-0.012479923204390744\n",
      "-0.00456121820174929\n",
      "-0.006618678780196834\n",
      "0.0\n",
      "\n",
      "\n",
      "Run Time -> --- 862.7393398284912 seconds ---\n",
      "Data Successfully Clustered\n"
     ]
    },
    {
     "data": {
      "image/png": "[encoded data removed]",
      "text/plain": [
       "<Figure size 432x288 with 1 Axes>"
      ]
     },
     "metadata": {
      "needs_background": "light"
     },
     "output_type": "display_data"
    }
   ],
   "source": [
    "\n",
    "# number of clustres\n",
    "K=5\n",
    "# Select random observation as centroids\n",
    "Centroids = (X.sample(n=K))\n",
    "print(Centroids)\n",
    "\n",
    "diff = 1\n",
    "j=0\n",
    "\n",
    "print(\"\\nClustering...\\n\")\n",
    "start_time = time.time()\n",
    "\n",
    "while(diff!=0):\n",
    "    XD=X\n",
    "    i=1\n",
    "    for index1,row_c in Centroids.iterrows():\n",
    "        ED=[]\n",
    "        #calculate the distance between the ith centroid and all the poits\n",
    "        for index2,row_d in XD.iterrows():\n",
    "            d1=(row_c[\"dst_host_same_srv_rate\"]-row_d[\"dst_host_same_srv_rate\"])**2\n",
    "            d2=(row_c[\"same_srv_rate\"]-row_d[\"same_srv_rate\"])**2\n",
    "            d=np.sqrt(d1+d2)\n",
    "            ED.append(d)\n",
    "        X[i]=ED\n",
    "        i=i+1\n",
    "\n",
    "    C=[]\n",
    "    for index,row in X.iterrows():\n",
    "        min_dist=row[1]\n",
    "        pos=1\n",
    "        for i in range(K):\n",
    "            if row[i+1] < min_dist:\n",
    "                min_dist = row[i+1]\n",
    "                pos=i+1\n",
    "        C.append(pos)\n",
    "    X[\"Cluster\"]=C\n",
    "    Centroids_new = X.groupby([\"Cluster\"]).mean()[[\"same_srv_rate\",\"dst_host_same_srv_rate\"]]\n",
    "    if j == 0:\n",
    "        diff=1\n",
    "        j=j+1\n",
    "    else:\n",
    "        diff = (Centroids_new['same_srv_rate'] - Centroids['same_srv_rate']).sum() + (Centroids_new['dst_host_same_srv_rate'] - Centroids['dst_host_same_srv_rate']).sum()\n",
    "        print(diff.sum())\n",
    "    Centroids = X.groupby([\"Cluster\"]).mean()[[\"same_srv_rate\",\"dst_host_same_srv_rate\"]]\n",
    "\n",
    "print(\"\\n\\nRun Time ->\",\"--- %s seconds ---\" % (time.time() - start_time))\n",
    "print(\"Data Successfully Clustered\")\n",
    "\n",
    "color=['blue','green','cyan', 'black', 'yellow']\n",
    "for k in range(K):\n",
    "    data=X[X[\"Cluster\"]==k+1]\n",
    "    plt.scatter(data[\"dst_host_same_srv_rate\"],data[\"same_srv_rate\"],c=color[k])\n"
   ]
  },
  {
   "cell_type": "code",
   "execution_count": 3,
   "metadata": {},
   "outputs": [
    {
     "data": {
      "image/png": "[encoded data removed]",
      "text/plain": [
       "<Figure size 432x288 with 1 Axes>"
      ]
     },
     "metadata": {
      "needs_background": "light"
     },
     "output_type": "display_data"
    }
   ],
   "source": [
    "# print(Centroids)\n",
    "# print(type(Centroids))\n",
    "\n",
    "color=['blue','green','cyan','black', 'yellow']\n",
    "for k in range(K):\n",
    "    data=X[X[\"Cluster\"]==k+1]\n",
    "    plt.scatter(data[\"dst_host_same_srv_rate\"],data[\"same_srv_rate\"],c=color[k])\n",
    "\n",
    "\n",
    "plt.scatter(Centroids[\"dst_host_same_srv_rate\"],Centroids[\"same_srv_rate\"],c='red')\n",
    "plt.xlabel('dst_host_same_srv_rate')\n",
    "plt.ylabel('same_srv_rate')\n",
    "plt.show()\n",
    "# plt.scatter(X[\"dst_host_same_srv_rate\"],X[\"same_srv_rate\"],c='black')"
   ]
  },
  {
   "cell_type": "code",
   "execution_count": 30,
   "metadata": {},
   "outputs": [
    {
     "name": "stdout",
     "output_type": "stream",
     "text": [
      "<class 'pandas.core.frame.DataFrame'>\n"
     ]
    },
    {
     "data": {
      "image/png": "[encoded data removed]",
      "text/plain": [
       "<Figure size 432x288 with 1 Axes>"
      ]
     },
     "metadata": {
      "needs_background": "light"
     },
     "output_type": "display_data"
    }
   ],
   "source": [
    "import matplotlib.pyplot as plt2\n",
    "%matplotlib inline\n",
    "test_data=pd.read_csv(\"kdd_test.csv\")\n",
    "X2 = test_data[[\"same_srv_rate\",\"dst_host_same_srv_rate\"]].copy()\n",
    "\n",
    "plt2.scatter(test_data[\"dst_host_same_srv_rate\"],test_data[\"same_srv_rate\"], label='True Position')\n",
    "\n",
    "X.head()\n",
    "# print(type(X))\n",
    "\n",
    "\"\"\" tranning \"\"\"\n",
    "nbrInst =[0] *5\n",
    "prc_cls =[0] *5\n",
    "\n",
    "i=0\n",
    "for index, row in X.iterrows():\n",
    "    cls =X[\"Cluster\"][i]\n",
    "    nbrInst[cls-1] +=1\n",
    "    i+=1\n",
    "\n",
    "print(nbrInst)\n",
    "for n in range(5):\n",
    "    prc_cls[n] = nbrInst[n]*100/(i+1)\n",
    "    \n",
    "print(prc_cls)"
   ]
  },
  {
   "cell_type": "code",
   "execution_count": 28,
   "metadata": {},
   "outputs": [
    {
     "data": {
      "image/png": "[encoded data removed]",
      "text/plain": [
       "<Figure size 432x288 with 1 Axes>"
      ]
     },
     "metadata": {
      "needs_background": "light"
     },
     "output_type": "display_data"
    }
   ],
   "source": [
    "import numpy as np\n",
    "\n",
    "from sklearn.cluster import KMeans\n",
    "\n",
    "from sklearn.metrics.pairwise import euclidean_distances\n",
    "# euc_res=euclidean_distances(np.array(Centroids), np.array(X2))\n",
    "\n",
    "\n",
    "'''Calculate distance between centroids and all the test points'''\n",
    "XD2=X2.copy()\n",
    "i=1\n",
    "for index1,row_c in Centroids.iterrows():\n",
    "    ED2=[]\n",
    "    for index2,row_d in XD2.iterrows():\n",
    "        d12=(row_c[\"dst_host_same_srv_rate\"]-row_d[\"dst_host_same_srv_rate\"])**2\n",
    "        d22=(row_c[\"same_srv_rate\"]-row_d[\"same_srv_rate\"])**2\n",
    "        d2=np.sqrt(d12+d22)\n",
    "        ED2.append(d2)\n",
    "    X2[i]=ED2.copy()\n",
    "    i=i+1\n",
    "\n",
    "'''Find the shortest distance and attribute attribute the points to it'''\n",
    "C2=[]\n",
    "for index,row in X2.iterrows():\n",
    "    min_dist2=row[1]\n",
    "    pos2=1\n",
    "    for i in range(K):\n",
    "        if row[i+1] < min_dist2:\n",
    "            min_dist2 = row[i+1]\n",
    "            pos2=i+1\n",
    "    C2.append(pos2) \n",
    "X2[\"Cluster\"]=C2\n",
    "X2[\"labels\"] = test_data[\"labels\"]\n",
    "\n",
    "test_data[\"Cluster\"]= C2\n",
    " \n",
    "color=['blue','green','cyan','black', 'yellow'] \n",
    "for k in range(K):\n",
    "    test_d=X2[X2[\"Cluster\"]==k+1]\n",
    "    plt2.scatter(test_d[\"dst_host_same_srv_rate\"],test_d[\"same_srv_rate\"],c=color[k])\n",
    "    \n",
    "plt2.scatter(Centroids[\"dst_host_same_srv_rate\"],Centroids[\"same_srv_rate\"],c='red')\n",
    "plt2.xlabel('dst_host_same_srv_rate')\n",
    "plt2.ylabel('dst_host_same_srv_rate')\n",
    "plt2.show()\n"
   ]
  },
  {
   "cell_type": "code",
   "execution_count": 29,
   "metadata": {},
   "outputs": [
    {
     "data": {
      "text/html": [
       "<div>\n",
       "<style scoped>\n",
       "    .dataframe tbody tr th:only-of-type {\n",
       "        vertical-align: middle;\n",
       "    }\n",
       "\n",
       "    .dataframe tbody tr th {\n",
       "        vertical-align: top;\n",
       "    }\n",
       "\n",
       "    .dataframe thead th {\n",
       "        text-align: right;\n",
       "    }\n",
       "</style>\n",
       "<table border=\"1\" class=\"dataframe\">\n",
       "  <thead>\n",
       "    <tr style=\"text-align: right;\">\n",
       "      <th></th>\n",
       "      <th>same_srv_rate</th>\n",
       "      <th>dst_host_same_srv_rate</th>\n",
       "      <th>1</th>\n",
       "      <th>2</th>\n",
       "      <th>3</th>\n",
       "      <th>4</th>\n",
       "      <th>5</th>\n",
       "      <th>Cluster</th>\n",
       "      <th>labels</th>\n",
       "      <th>predict_lables</th>\n",
       "    </tr>\n",
       "  </thead>\n",
       "  <tbody>\n",
       "    <tr>\n",
       "      <th>0</th>\n",
       "      <td>1.00</td>\n",
       "      <td>0.11</td>\n",
       "      <td>0.451925</td>\n",
       "      <td>0.007449</td>\n",
       "      <td>0.647772</td>\n",
       "      <td>0.876950</td>\n",
       "      <td>0.937137</td>\n",
       "      <td>2</td>\n",
       "      <td>normal</td>\n",
       "      <td>normal</td>\n",
       "    </tr>\n",
       "    <tr>\n",
       "      <th>1</th>\n",
       "      <td>0.99</td>\n",
       "      <td>0.80</td>\n",
       "      <td>0.238156</td>\n",
       "      <td>0.693090</td>\n",
       "      <td>0.876526</td>\n",
       "      <td>0.187077</td>\n",
       "      <td>1.195377</td>\n",
       "      <td>4</td>\n",
       "      <td>normal</td>\n",
       "      <td>attack</td>\n",
       "    </tr>\n",
       "    <tr>\n",
       "      <th>2</th>\n",
       "      <td>1.00</td>\n",
       "      <td>1.00</td>\n",
       "      <td>0.438228</td>\n",
       "      <td>0.893108</td>\n",
       "      <td>1.031412</td>\n",
       "      <td>0.013390</td>\n",
       "      <td>1.338108</td>\n",
       "      <td>4</td>\n",
       "      <td>normal</td>\n",
       "      <td>attack</td>\n",
       "    </tr>\n",
       "    <tr>\n",
       "      <th>3</th>\n",
       "      <td>1.00</td>\n",
       "      <td>0.01</td>\n",
       "      <td>0.551912</td>\n",
       "      <td>0.097155</td>\n",
       "      <td>0.668001</td>\n",
       "      <td>0.976949</td>\n",
       "      <td>0.935265</td>\n",
       "      <td>2</td>\n",
       "      <td>normal</td>\n",
       "      <td>normal</td>\n",
       "    </tr>\n",
       "    <tr>\n",
       "      <th>4</th>\n",
       "      <td>1.00</td>\n",
       "      <td>0.01</td>\n",
       "      <td>0.551912</td>\n",
       "      <td>0.097155</td>\n",
       "      <td>0.668001</td>\n",
       "      <td>0.976949</td>\n",
       "      <td>0.935265</td>\n",
       "      <td>2</td>\n",
       "      <td>portsweep</td>\n",
       "      <td>normal</td>\n",
       "    </tr>\n",
       "  </tbody>\n",
       "</table>\n",
       "</div>"
      ],
      "text/plain": [
       "   same_srv_rate  dst_host_same_srv_rate         1         2         3  \\\n",
       "0           1.00                    0.11  0.451925  0.007449  0.647772   \n",
       "1           0.99                    0.80  0.238156  0.693090  0.876526   \n",
       "2           1.00                    1.00  0.438228  0.893108  1.031412   \n",
       "3           1.00                    0.01  0.551912  0.097155  0.668001   \n",
       "4           1.00                    0.01  0.551912  0.097155  0.668001   \n",
       "\n",
       "          4         5  Cluster     labels predict_lables  \n",
       "0  0.876950  0.937137        2     normal         normal  \n",
       "1  0.187077  1.195377        4     normal         attack  \n",
       "2  0.013390  1.338108        4     normal         attack  \n",
       "3  0.976949  0.935265        2     normal         normal  \n",
       "4  0.976949  0.935265        2  portsweep         normal  "
      ]
     },
     "execution_count": 29,
     "metadata": {},
     "output_type": "execute_result"
    }
   ],
   "source": [
    "predict_labels = []\n",
    "i=0\n",
    "for index, row in X2.iterrows():\n",
    "    if(X2[\"Cluster\"][i]== 1 or X2[\"Cluster\"][i]== 3 or X2[\"Cluster\"][i]==2):\n",
    "        predict_labels.append(\"normal\")\n",
    "    else:\n",
    "        predict_labels.append(\"attack\")\n",
    "    i+=1\n",
    "    \n",
    "\n",
    "X2[\"predict_lables\"] = predict_labels\n",
    "X2.head()"
   ]
  },
  {
   "cell_type": "code",
   "execution_count": 31,
   "metadata": {},
   "outputs": [
    {
     "name": "stdout",
     "output_type": "stream",
     "text": [
      "[8854, 12721, 6077, 57152, 41169]\n",
      "[7.028434438852462, 10.098115484147522, 4.824011303919857, 45.368091828472544, 32.680553130010956]\n"
     ]
    }
   ],
   "source": [
    "\n",
    "\"\"\" Test \"\"\"\n",
    "nbrInst_test =[0] *5\n",
    "prc_cls_test =[0] *5\n",
    "\n",
    "i=0\n",
    "for index, row in X.iterrows():\n",
    "    cls =X[\"Cluster\"][i]\n",
    "    nbrInst_test[cls-1] +=1\n",
    "    i+=1\n",
    "\n",
    "print(nbrInst_test)\n",
    "for n in range(5):\n",
    "    prc_cls_test[n] = nbrInst_test[n]*100/(i+1)\n",
    "    \n",
    "print(prc_cls_test)"
   ]
  },
  {
   "cell_type": "code",
   "execution_count": 16,
   "metadata": {},
   "outputs": [
    {
     "name": "stdout",
     "output_type": "stream",
     "text": [
      "50.4369039698381\n"
     ]
    }
   ],
   "source": [
    "accuracy = 0\n",
    "i=0\n",
    "for index, row in X2.iterrows():\n",
    "    if(X2[\"labels\"][i]!= 'normal' and X2[\"predict_lables\"][i]== 'attack') or(X2[\"labels\"][i]== 'normal' and X2[\"predict_lables\"][i]== 'normal'):\n",
    "        accuracy+=1\n",
    "    i+=1\n",
    "    \n",
    "print(accuracy*100/(i+1))\n",
    "    \n"
   ]
  },
  {
   "cell_type": "code",
   "execution_count": 15,
   "metadata": {},
   "outputs": [],
   "source": [
    "from sklearn.cluster import KMeans\n",
    "import numpy as np\n",
    "import pandas as pd\n",
    "\n",
    "data_k=pd.read_csv(\"kdd_test.csv\")\n",
    "\n",
    "#We will be taking only two variables from the data – “dst_host_diff_srv_rate” and “dst_host_same_src_port_rate”.\n",
    "X_k = data_k[[\"dst_host_diff_srv_rate\", \"dst_host_same_src_port_rate\", \"dst_host_serror_rate\",\"dst_host_srv_serror_rate\",\"dst_host_rerror_rate\",\"dst_host_srv_rerror_rate\"]]\n",
    "\n",
    "\n",
    "km = KMeans(n_clusters=5)\n",
    "y_predicted = km.fit_predict(X_k)\n",
    "\n",
    "R = X_k.copy()\n",
    "R[\"labels\"] = data_k[\"labels\"].copy()\n",
    "\n",
    "R[\"predict_lables\"] = y_predicted"
   ]
  },
  {
   "cell_type": "code",
   "execution_count": 16,
   "metadata": {},
   "outputs": [],
   "source": [
    "# R.head(50)"
   ]
  },
  {
   "cell_type": "code",
   "execution_count": 24,
   "metadata": {},
   "outputs": [
    {
     "data": {
      "text/plain": [
       "<matplotlib.collections.PathCollection at 0x15724745e50>"
      ]
     },
     "execution_count": 24,
     "metadata": {},
     "output_type": "execute_result"
    },
    {
     "data": {
      "image/png": "[encoded data removed]",
      "text/plain": [
       "<Figure size 432x288 with 1 Axes>"
      ]
     },
     "metadata": {
      "needs_background": "light"
     },
     "output_type": "display_data"
    }
   ],
   "source": [
    "import matplotlib.pyplot as plt\n",
    "\n",
    "plt.scatter(X_k[\"dst_host_diff_srv_rate\"],X_k[\"dst_host_same_src_port_rate\"], c=km.labels_, cmap='rainbow')\n"
   ]
  },
  {
   "cell_type": "code",
   "execution_count": 25,
   "metadata": {},
   "outputs": [
    {
     "data": {
      "text/html": [
       "<div>\n",
       "<style scoped>\n",
       "    .dataframe tbody tr th:only-of-type {\n",
       "        vertical-align: middle;\n",
       "    }\n",
       "\n",
       "    .dataframe tbody tr th {\n",
       "        vertical-align: top;\n",
       "    }\n",
       "\n",
       "    .dataframe thead th {\n",
       "        text-align: right;\n",
       "    }\n",
       "</style>\n",
       "<table border=\"1\" class=\"dataframe\">\n",
       "  <thead>\n",
       "    <tr style=\"text-align: right;\">\n",
       "      <th></th>\n",
       "      <th>dst_host_diff_srv_rate</th>\n",
       "      <th>dst_host_same_src_port_rate</th>\n",
       "      <th>dst_host_serror_rate</th>\n",
       "      <th>dst_host_srv_serror_rate</th>\n",
       "      <th>dst_host_rerror_rate</th>\n",
       "      <th>dst_host_srv_rerror_rate</th>\n",
       "      <th>labels</th>\n",
       "      <th>predict_lables</th>\n",
       "      <th>predict_lables_clr</th>\n",
       "    </tr>\n",
       "  </thead>\n",
       "  <tbody>\n",
       "    <tr>\n",
       "      <th>0</th>\n",
       "      <td>0.02</td>\n",
       "      <td>0.01</td>\n",
       "      <td>0.0</td>\n",
       "      <td>0.0</td>\n",
       "      <td>0.87</td>\n",
       "      <td>0.0</td>\n",
       "      <td>normal</td>\n",
       "      <td>1</td>\n",
       "      <td>normal</td>\n",
       "    </tr>\n",
       "    <tr>\n",
       "      <th>1</th>\n",
       "      <td>0.02</td>\n",
       "      <td>0.01</td>\n",
       "      <td>0.0</td>\n",
       "      <td>0.0</td>\n",
       "      <td>0.00</td>\n",
       "      <td>0.0</td>\n",
       "      <td>normal</td>\n",
       "      <td>1</td>\n",
       "      <td>normal</td>\n",
       "    </tr>\n",
       "    <tr>\n",
       "      <th>2</th>\n",
       "      <td>0.00</td>\n",
       "      <td>0.01</td>\n",
       "      <td>0.0</td>\n",
       "      <td>0.0</td>\n",
       "      <td>0.00</td>\n",
       "      <td>0.0</td>\n",
       "      <td>normal</td>\n",
       "      <td>1</td>\n",
       "      <td>normal</td>\n",
       "    </tr>\n",
       "    <tr>\n",
       "      <th>3</th>\n",
       "      <td>0.84</td>\n",
       "      <td>1.00</td>\n",
       "      <td>0.0</td>\n",
       "      <td>0.0</td>\n",
       "      <td>0.00</td>\n",
       "      <td>0.0</td>\n",
       "      <td>normal</td>\n",
       "      <td>4</td>\n",
       "      <td>normal</td>\n",
       "    </tr>\n",
       "    <tr>\n",
       "      <th>4</th>\n",
       "      <td>0.68</td>\n",
       "      <td>1.00</td>\n",
       "      <td>0.0</td>\n",
       "      <td>0.0</td>\n",
       "      <td>1.00</td>\n",
       "      <td>1.0</td>\n",
       "      <td>portsweep</td>\n",
       "      <td>3</td>\n",
       "      <td>attack</td>\n",
       "    </tr>\n",
       "  </tbody>\n",
       "</table>\n",
       "</div>"
      ],
      "text/plain": [
       "   dst_host_diff_srv_rate  dst_host_same_src_port_rate  dst_host_serror_rate  \\\n",
       "0                    0.02                         0.01                   0.0   \n",
       "1                    0.02                         0.01                   0.0   \n",
       "2                    0.00                         0.01                   0.0   \n",
       "3                    0.84                         1.00                   0.0   \n",
       "4                    0.68                         1.00                   0.0   \n",
       "\n",
       "   dst_host_srv_serror_rate  dst_host_rerror_rate  dst_host_srv_rerror_rate  \\\n",
       "0                       0.0                  0.87                       0.0   \n",
       "1                       0.0                  0.00                       0.0   \n",
       "2                       0.0                  0.00                       0.0   \n",
       "3                       0.0                  0.00                       0.0   \n",
       "4                       0.0                  1.00                       1.0   \n",
       "\n",
       "      labels  predict_lables predict_lables_clr  \n",
       "0     normal               1             normal  \n",
       "1     normal               1             normal  \n",
       "2     normal               1             normal  \n",
       "3     normal               4             normal  \n",
       "4  portsweep               3             attack  "
      ]
     },
     "execution_count": 25,
     "metadata": {},
     "output_type": "execute_result"
    }
   ],
   "source": [
    "predict_labels = []\n",
    "i=0\n",
    "for index, row in R.iterrows():\n",
    "    if(R[\"predict_lables\"][i]== 1 or R[\"predict_lables\"][i]== 4):\n",
    "        predict_labels.append(\"normal\")\n",
    "    else:\n",
    "        predict_labels.append(\"attack\")\n",
    "    i+=1\n",
    "    \n",
    "# print(X2[\"Cluster\"][0])\n",
    "\n",
    "R[\"predict_lables_clr\"] = predict_labels\n",
    "R.head()"
   ]
  },
  {
   "cell_type": "code",
   "execution_count": 26,
   "metadata": {},
   "outputs": [
    {
     "name": "stdout",
     "output_type": "stream",
     "text": [
      "84.23597249944555\n"
     ]
    }
   ],
   "source": [
    "accuracy = 0\n",
    "i=0\n",
    "for index, row in R.iterrows():\n",
    "    if(R[\"labels\"][i]!= 'normal' and R[\"predict_lables_clr\"][i]== 'attack') or(R[\"labels\"][i]== 'normal' and R[\"predict_lables_clr\"][i]== 'normal'):\n",
    "        accuracy+=1\n",
    "    i+=1\n",
    "    \n",
    "print(accuracy*100/(i+1))\n",
    "    "
   ]
  },
  {
   "cell_type": "code",
   "execution_count": null,
   "metadata": {},
   "outputs": [],
   "source": []
  }
 ],
 "metadata": {
  "kernelspec": {
   "display_name": "Python 3",
   "language": "python",
   "name": "python3"
  },
  "language_info": {
   "codemirror_mode": {
    "name": "ipython",
    "version": 3
   },
   "file_extension": ".py",
   "mimetype": "text/x-python",
   "name": "python",
   "nbconvert_exporter": "python",
   "pygments_lexer": "ipython3",
   "version": "3.8.5"
  }
 },
 "nbformat": 4,
 "nbformat_minor": 4
}
